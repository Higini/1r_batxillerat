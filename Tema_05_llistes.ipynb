{
  "nbformat": 4,
  "nbformat_minor": 0,
  "metadata": {
    "colab": {
      "provenance": [],
      "toc_visible": true,
      "authorship_tag": "ABX9TyOtZtV8x8+3DHb+je3mELGH",
      "include_colab_link": true
    },
    "kernelspec": {
      "name": "python3",
      "display_name": "Python 3"
    },
    "language_info": {
      "name": "python"
    }
  },
  "cells": [
    {
      "cell_type": "markdown",
      "metadata": {
        "id": "view-in-github",
        "colab_type": "text"
      },
      "source": [
        "<a href=\"https://colab.research.google.com/github/Higini/1r_batxillerat/blob/main/Tema_05_llistes.ipynb\" target=\"_parent\"><img src=\"https://colab.research.google.com/assets/colab-badge.svg\" alt=\"Open In Colab\"/></a>"
      ]
    },
    {
      "cell_type": "markdown",
      "source": [
        "#Estructura de dades\n",
        "Si els tipus de dades que hem vist fins ara (cadenes de text, nombres i boolenas) considerem que són àtoms, les estructuras de dades serien les molècules."
      ],
      "metadata": {
        "id": "UrEHAGoiIt76"
      }
    },
    {
      "cell_type": "markdown",
      "source": [
        "##Llistes\n",
        "Les llistes són estructures de dades mutables que permeten afegir, eliminar i modificar els seus elements.\n",
        "\n",
        "Les llistes emmagatzemen objectes amb un ordre definit\n",
        "\n",
        "**Observació**\n",
        "\n",
        "Una llista pot contenir dades heterogenis"
      ],
      "metadata": {
        "id": "Tp1YgZ4kJQS3"
      }
    },
    {
      "cell_type": "markdown",
      "source": [
        "## Creació de llistes"
      ],
      "metadata": {
        "id": "EsJEdkwpLhqX"
      }
    },
    {
      "cell_type": "code",
      "execution_count": null,
      "metadata": {
        "id": "eFKS-SvnIl6b"
      },
      "outputs": [],
      "source": [
        "\n",
        "llista_buida = []\n",
        "llista_cotxes = ['Ford', 'Mazda', 'Seat', 'Renault', 'BMW']\n",
        "llista_cuadrats = [1, 4, 9, 16]\n",
        "llista_dades = [14,'Barcelona', True, ['gos','gat','ocell'],{'username1':1234,'username2':5678}, (2,6)]"
      ]
    },
    {
      "cell_type": "markdown",
      "source": [
        "##Conversió a llistes\n",
        "Qualsevol tipus de dada que permeti ser iterat es pot convertir en una llista aplicant la funció `list()`\n",
        "\n"
      ],
      "metadata": {
        "id": "lYIqbEtfLnvc"
      }
    },
    {
      "cell_type": "code",
      "source": [
        "list('Python')"
      ],
      "metadata": {
        "colab": {
          "base_uri": "https://localhost:8080/"
        },
        "id": "FnVnt_pTLr4_",
        "outputId": "e5375e41-90be-4031-a017-1335f7381eb9"
      },
      "execution_count": null,
      "outputs": [
        {
          "output_type": "execute_result",
          "data": {
            "text/plain": [
              "['P', 'y', 't', 'h', 'o', 'n']"
            ]
          },
          "metadata": {},
          "execution_count": 2
        }
      ]
    },
    {
      "cell_type": "code",
      "source": [
        "list(range(10))"
      ],
      "metadata": {
        "colab": {
          "base_uri": "https://localhost:8080/"
        },
        "id": "TkaGvzB4MC5b",
        "outputId": "64ca6d9d-7ae5-4558-894f-ce083a81d2f5"
      },
      "execution_count": null,
      "outputs": [
        {
          "output_type": "execute_result",
          "data": {
            "text/plain": [
              "[0, 1, 2, 3, 4, 5, 6, 7, 8, 9]"
            ]
          },
          "metadata": {},
          "execution_count": 4
        }
      ]
    },
    {
      "cell_type": "markdown",
      "source": [
        "##Operacions amb llistes"
      ],
      "metadata": {
        "id": "UnJUFp2QMbrZ"
      }
    },
    {
      "cell_type": "code",
      "source": [
        "llista_cotxes = ['Ford', 'Mazda', 'Seat', 'Renault', 'BMW']\n",
        "llista_cotxes[0]"
      ],
      "metadata": {
        "colab": {
          "base_uri": "https://localhost:8080/",
          "height": 35
        },
        "id": "Apbquwb9Mft5",
        "outputId": "219c67f7-a477-4e39-a69b-de280a71070f"
      },
      "execution_count": null,
      "outputs": [
        {
          "output_type": "execute_result",
          "data": {
            "text/plain": [
              "'Ford'"
            ],
            "application/vnd.google.colaboratory.intrinsic+json": {
              "type": "string"
            }
          },
          "metadata": {},
          "execution_count": 6
        }
      ]
    },
    {
      "cell_type": "code",
      "source": [
        "llista_cotxes[-1]"
      ],
      "metadata": {
        "colab": {
          "base_uri": "https://localhost:8080/",
          "height": 35
        },
        "id": "MkzY_RizMsDd",
        "outputId": "002741cc-45b0-4394-dd1a-68a38ca64fc5"
      },
      "execution_count": null,
      "outputs": [
        {
          "output_type": "execute_result",
          "data": {
            "text/plain": [
              "'BMW'"
            ],
            "application/vnd.google.colaboratory.intrinsic+json": {
              "type": "string"
            }
          },
          "metadata": {},
          "execution_count": 7
        }
      ]
    },
    {
      "cell_type": "code",
      "source": [
        "llista_cotxes[5]"
      ],
      "metadata": {
        "colab": {
          "base_uri": "https://localhost:8080/",
          "height": 166
        },
        "id": "lZiGXuFvMyM6",
        "outputId": "54aad087-365b-4afd-cd3d-34ed6238f762"
      },
      "execution_count": null,
      "outputs": [
        {
          "output_type": "error",
          "ename": "IndexError",
          "evalue": "ignored",
          "traceback": [
            "\u001b[0;31m---------------------------------------------------------------------------\u001b[0m",
            "\u001b[0;31mIndexError\u001b[0m                                Traceback (most recent call last)",
            "\u001b[0;32m<ipython-input-8-763f8fea20f7>\u001b[0m in \u001b[0;36m<module>\u001b[0;34m\u001b[0m\n\u001b[0;32m----> 1\u001b[0;31m \u001b[0mllista_cotxes\u001b[0m\u001b[0;34m[\u001b[0m\u001b[0;36m5\u001b[0m\u001b[0;34m]\u001b[0m\u001b[0;34m\u001b[0m\u001b[0;34m\u001b[0m\u001b[0m\n\u001b[0m",
            "\u001b[0;31mIndexError\u001b[0m: list index out of range"
          ]
        }
      ]
    },
    {
      "cell_type": "markdown",
      "source": [
        "##Trossejar llistes"
      ],
      "metadata": {
        "id": "DKhtz7EGM7ZT"
      }
    },
    {
      "cell_type": "code",
      "source": [
        "llista_cotxes = ['Ford', 'Mazda', 'Seat', 'Renault', 'BMW']"
      ],
      "metadata": {
        "id": "hpUVnt0GHbn-"
      },
      "execution_count": null,
      "outputs": []
    },
    {
      "cell_type": "code",
      "source": [
        "llista_cotxes[0:3]"
      ],
      "metadata": {
        "colab": {
          "base_uri": "https://localhost:8080/"
        },
        "id": "2wPjQ6PjNBsI",
        "outputId": "c074613c-43d3-458e-9622-9199d8ee5db5"
      },
      "execution_count": null,
      "outputs": [
        {
          "output_type": "execute_result",
          "data": {
            "text/plain": [
              "['Ford', 'Mazda', 'Seat']"
            ]
          },
          "metadata": {},
          "execution_count": 9
        }
      ]
    },
    {
      "cell_type": "code",
      "source": [
        "llista_cotxes[:3]"
      ],
      "metadata": {
        "colab": {
          "base_uri": "https://localhost:8080/"
        },
        "id": "66BaevlSNVcJ",
        "outputId": "15e584f1-9f48-45fd-d93c-d908e92745a6"
      },
      "execution_count": null,
      "outputs": [
        {
          "output_type": "execute_result",
          "data": {
            "text/plain": [
              "['Ford', 'Mazda', 'Seat']"
            ]
          },
          "metadata": {},
          "execution_count": 10
        }
      ]
    },
    {
      "cell_type": "code",
      "source": [
        "llista_cotxes[1:3]"
      ],
      "metadata": {
        "colab": {
          "base_uri": "https://localhost:8080/"
        },
        "id": "lWhB5EpLNYw0",
        "outputId": "5bbb58a5-14ce-47e1-9832-96f750609b2a"
      },
      "execution_count": null,
      "outputs": [
        {
          "output_type": "execute_result",
          "data": {
            "text/plain": [
              "['Mazda', 'Seat']"
            ]
          },
          "metadata": {},
          "execution_count": 11
        }
      ]
    },
    {
      "cell_type": "code",
      "source": [
        "llista_cotxes[-1:-4:-1] # Hi ha una inversió d'ordre en els elements"
      ],
      "metadata": {
        "colab": {
          "base_uri": "https://localhost:8080/"
        },
        "id": "2YlbSVraNmKl",
        "outputId": "6b772e69-6b2a-4e93-8134-ad97c55e4a3b"
      },
      "execution_count": null,
      "outputs": [
        {
          "output_type": "execute_result",
          "data": {
            "text/plain": [
              "['BMW', 'Renault', 'Seat']"
            ]
          },
          "metadata": {},
          "execution_count": 12
        }
      ]
    },
    {
      "cell_type": "code",
      "source": [
        "llista_cotxes[::-1] # Inverteix els elements de la llista"
      ],
      "metadata": {
        "colab": {
          "base_uri": "https://localhost:8080/"
        },
        "id": "aJfVrLwoN68D",
        "outputId": "3774e500-7677-4a78-b320-e0ad00298e73"
      },
      "execution_count": null,
      "outputs": [
        {
          "output_type": "execute_result",
          "data": {
            "text/plain": [
              "['BMW', 'Renault', 'Seat', 'Mazda', 'Ford']"
            ]
          },
          "metadata": {},
          "execution_count": 13
        }
      ]
    },
    {
      "cell_type": "markdown",
      "source": [
        "En el trossejat de llistes no hem de preocupar-nos per accedir a un índex vàlid (fora de rang) perquè `Python`els restringirà als límits de la llista."
      ],
      "metadata": {
        "id": "t18QebQPOWEL"
      }
    },
    {
      "cell_type": "code",
      "source": [
        "llista_cotxes[10:]"
      ],
      "metadata": {
        "colab": {
          "base_uri": "https://localhost:8080/"
        },
        "id": "TIGA7U4vOouC",
        "outputId": "17015efe-c747-4e60-ad72-af31b91ff44c"
      },
      "execution_count": null,
      "outputs": [
        {
          "output_type": "execute_result",
          "data": {
            "text/plain": [
              "[]"
            ]
          },
          "metadata": {},
          "execution_count": 15
        }
      ]
    },
    {
      "cell_type": "code",
      "source": [
        "llista_cotxes[3:10]"
      ],
      "metadata": {
        "colab": {
          "base_uri": "https://localhost:8080/"
        },
        "id": "014_wBslOvSL",
        "outputId": "e0fbbf3d-82f3-42a1-cc95-29dfc05432af"
      },
      "execution_count": null,
      "outputs": [
        {
          "output_type": "execute_result",
          "data": {
            "text/plain": [
              "['Renault', 'BMW']"
            ]
          },
          "metadata": {},
          "execution_count": 18
        }
      ]
    },
    {
      "cell_type": "code",
      "source": [
        "llista_cotxes[-100:2]"
      ],
      "metadata": {
        "colab": {
          "base_uri": "https://localhost:8080/"
        },
        "id": "OK36uwBaO79w",
        "outputId": "edb9fa97-0da8-467c-8fca-9ab0cd4aa3b6"
      },
      "execution_count": null,
      "outputs": [
        {
          "output_type": "execute_result",
          "data": {
            "text/plain": [
              "['Ford', 'Mazda']"
            ]
          },
          "metadata": {},
          "execution_count": 19
        }
      ]
    },
    {
      "cell_type": "markdown",
      "source": [
        "##Invertir una llista\n",
        "* Conservant la llista original\n",
        "  - Trossejant\n",
        "  - Funció `reversed()`\n",
        "\n",
        "* Modificant la llista original\n",
        "  - Funció `reverse()`"
      ],
      "metadata": {
        "id": "BLikY7RwPRDE"
      }
    },
    {
      "cell_type": "code",
      "source": [
        "llista = ['gos', 'gat', 'ocell', 'peix', 'tortuga', 'esquirol']\n",
        "llista"
      ],
      "metadata": {
        "colab": {
          "base_uri": "https://localhost:8080/"
        },
        "id": "QjdWGNQAP909",
        "outputId": "57083abf-3f6b-48fb-f514-dd1b88108368"
      },
      "execution_count": null,
      "outputs": [
        {
          "output_type": "execute_result",
          "data": {
            "text/plain": [
              "['gos', 'gat', 'ocell', 'peix', 'tortuga', 'esquirol']"
            ]
          },
          "metadata": {},
          "execution_count": 3
        }
      ]
    },
    {
      "cell_type": "code",
      "source": [
        "llista[::-1]"
      ],
      "metadata": {
        "colab": {
          "base_uri": "https://localhost:8080/"
        },
        "id": "JmsVza8dQPYO",
        "outputId": "63a61db8-553a-41a9-f5eb-aeef55b5ec9d"
      },
      "execution_count": null,
      "outputs": [
        {
          "output_type": "execute_result",
          "data": {
            "text/plain": [
              "['esquirol', 'tortuga', 'peix', 'ocell', 'gat', 'gos']"
            ]
          },
          "metadata": {},
          "execution_count": 3
        }
      ]
    },
    {
      "cell_type": "code",
      "source": [
        "llista"
      ],
      "metadata": {
        "colab": {
          "base_uri": "https://localhost:8080/"
        },
        "id": "AuDjccjWHoTA",
        "outputId": "e818c84d-d923-4209-8ebf-29281017a3de"
      },
      "execution_count": null,
      "outputs": [
        {
          "output_type": "execute_result",
          "data": {
            "text/plain": [
              "['gos', 'gat', 'ocell', 'peix', 'tortuga', 'esquirol']"
            ]
          },
          "metadata": {},
          "execution_count": 4
        }
      ]
    },
    {
      "cell_type": "code",
      "source": [
        "list(reversed(llista))"
      ],
      "metadata": {
        "colab": {
          "base_uri": "https://localhost:8080/"
        },
        "id": "VkF4v7RUQaRx",
        "outputId": "e2c33427-d11a-4dac-c5ff-237671832549"
      },
      "execution_count": null,
      "outputs": [
        {
          "output_type": "execute_result",
          "data": {
            "text/plain": [
              "['esquirol', 'tortuga', 'peix', 'ocell', 'gat', 'gos']"
            ]
          },
          "metadata": {},
          "execution_count": 5
        }
      ]
    },
    {
      "cell_type": "code",
      "source": [
        "llista"
      ],
      "metadata": {
        "colab": {
          "base_uri": "https://localhost:8080/"
        },
        "id": "6CIBxEr4Hz0n",
        "outputId": "c69186a8-7fe3-441e-f3fc-3cbad9ea600e"
      },
      "execution_count": null,
      "outputs": [
        {
          "output_type": "execute_result",
          "data": {
            "text/plain": [
              "['gos', 'gat', 'ocell', 'peix', 'tortuga', 'esquirol']"
            ]
          },
          "metadata": {},
          "execution_count": 6
        }
      ]
    },
    {
      "cell_type": "code",
      "source": [
        "llista.reverse() # Aquesta funció modifica la llista original\n",
        "llista"
      ],
      "metadata": {
        "colab": {
          "base_uri": "https://localhost:8080/"
        },
        "id": "UhzyHoavQi33",
        "outputId": "d593ec8f-df96-4bfc-9779-57f2670f1bd3"
      },
      "execution_count": null,
      "outputs": [
        {
          "output_type": "execute_result",
          "data": {
            "text/plain": [
              "['esquirol', 'tortuga', 'peix', 'ocell', 'gat', 'gos']"
            ]
          },
          "metadata": {},
          "execution_count": 7
        }
      ]
    },
    {
      "cell_type": "markdown",
      "source": [
        "##Afegir elements a una llista"
      ],
      "metadata": {
        "id": "Cmrj2m0KQ5p8"
      }
    },
    {
      "cell_type": "code",
      "source": [
        "# Afegir un element al final de la llista\n",
        "llista.append('vaca')\n",
        "llista"
      ],
      "metadata": {
        "colab": {
          "base_uri": "https://localhost:8080/"
        },
        "id": "OBsFR4IXQ-LZ",
        "outputId": "5eb200ae-81a4-4b5e-deba-6eba309b9117"
      },
      "execution_count": null,
      "outputs": [
        {
          "output_type": "execute_result",
          "data": {
            "text/plain": [
              "['gos', 'gat', 'ocell', 'peix', 'tortuga', 'esquirol', 'vaca']"
            ]
          },
          "metadata": {},
          "execution_count": 27
        }
      ]
    },
    {
      "cell_type": "code",
      "source": [
        "# Afegir un element en una posició concreta de lla llista\n",
        "llista.insert(1,'elefant')\n",
        "llista"
      ],
      "metadata": {
        "colab": {
          "base_uri": "https://localhost:8080/"
        },
        "id": "t7dCqlyPRwcx",
        "outputId": "813d3ecf-8d39-4e64-f6dc-1bdd546a3db6"
      },
      "execution_count": null,
      "outputs": [
        {
          "output_type": "execute_result",
          "data": {
            "text/plain": [
              "['gos', 'elefant', 'gat', 'ocell', 'peix', 'tortuga', 'esquirol', 'vaca']"
            ]
          },
          "metadata": {},
          "execution_count": 29
        }
      ]
    },
    {
      "cell_type": "code",
      "source": [
        "llista.insert(10,'no error') # No genera error\n",
        "llista"
      ],
      "metadata": {
        "colab": {
          "base_uri": "https://localhost:8080/"
        },
        "id": "NAWpjCSASP4O",
        "outputId": "04e99701-9890-4336-bad0-afdfc17ad237"
      },
      "execution_count": null,
      "outputs": [
        {
          "output_type": "execute_result",
          "data": {
            "text/plain": [
              "['gos', 'gat', 'ocell', 'peix', 'tortuga', 'esquirol', 'no error', 'no error']"
            ]
          },
          "metadata": {},
          "execution_count": 47
        }
      ]
    },
    {
      "cell_type": "code",
      "source": [
        "llista[6]"
      ],
      "metadata": {
        "colab": {
          "base_uri": "https://localhost:8080/",
          "height": 35
        },
        "id": "G_nQ0y3xSn57",
        "outputId": "2074216f-c006-420e-c271-53dac75dde39"
      },
      "execution_count": null,
      "outputs": [
        {
          "output_type": "execute_result",
          "data": {
            "text/plain": [
              "'no error'"
            ],
            "application/vnd.google.colaboratory.intrinsic+json": {
              "type": "string"
            }
          },
          "metadata": {},
          "execution_count": 49
        }
      ]
    },
    {
      "cell_type": "markdown",
      "source": [
        "## Patró de creació de llistes"
      ],
      "metadata": {
        "id": "52cROyLoRNWd"
      }
    },
    {
      "cell_type": "code",
      "source": [
        "nombres = []\n",
        "\n",
        "for i in range(10):\n",
        "    if i % 3 == 0:\n",
        "        nombres.append(i)\n",
        "nombres"
      ],
      "metadata": {
        "colab": {
          "base_uri": "https://localhost:8080/"
        },
        "id": "rcOcuN8BRWOh",
        "outputId": "0d8861a9-8a91-4d9e-c034-970b514304f8"
      },
      "execution_count": null,
      "outputs": [
        {
          "output_type": "execute_result",
          "data": {
            "text/plain": [
              "[0, 3, 6, 9]"
            ]
          },
          "metadata": {},
          "execution_count": 28
        }
      ]
    },
    {
      "cell_type": "markdown",
      "source": [
        "##Repetir elements"
      ],
      "metadata": {
        "id": "YTMX1dhBTeMW"
      }
    },
    {
      "cell_type": "code",
      "source": [
        "llista = [1, 2, 3]\n",
        "llista * 3"
      ],
      "metadata": {
        "colab": {
          "base_uri": "https://localhost:8080/"
        },
        "id": "A6S7ZLfZThm6",
        "outputId": "54a198dd-ece8-4900-fe83-b46fb50d3b6f"
      },
      "execution_count": null,
      "outputs": [
        {
          "output_type": "execute_result",
          "data": {
            "text/plain": [
              "[1, 2, 3, 1, 2, 3, 1, 2, 3]"
            ]
          },
          "metadata": {},
          "execution_count": 50
        }
      ]
    },
    {
      "cell_type": "markdown",
      "source": [
        "## Combinar llistes\n",
        "* Sense modifcar les llistes originals\n",
        "* Modificant la llista original --> `extend()`\n",
        "\n",
        "**Observació**\n",
        "\n",
        "`extend()`itera sobre cada un dels elements d'un objecte.\n"
      ],
      "metadata": {
        "id": "zsgSJh_cTrUU"
      }
    },
    {
      "cell_type": "code",
      "source": [
        "llista_1 = [1, 2, 3]\n",
        "llista_2 =['casa','pis']\n",
        "print(llista_1 + llista_2)\n",
        "print(llista_1)\n",
        "print(llista_2)"
      ],
      "metadata": {
        "colab": {
          "base_uri": "https://localhost:8080/"
        },
        "id": "VzQiy35LT2KP",
        "outputId": "739eb769-0eb1-47e7-9203-ea37b133dcdc"
      },
      "execution_count": null,
      "outputs": [
        {
          "output_type": "stream",
          "name": "stdout",
          "text": [
            "[1, 2, 3, 'casa', 'pis']\n",
            "[1, 2, 3]\n",
            "['casa', 'pis']\n"
          ]
        }
      ]
    },
    {
      "cell_type": "code",
      "source": [
        "llista_1 = [1, 2, 3]\n",
        "llista_2 =['casa','pis']\n",
        "llista_1.extend(llista_2)\n",
        "\n",
        "print(llista_1)\n",
        "print(llista_2)"
      ],
      "metadata": {
        "colab": {
          "base_uri": "https://localhost:8080/"
        },
        "id": "9FROqMOOUbnR",
        "outputId": "628872d3-6f03-4ab3-d261-5241fbcedfca"
      },
      "execution_count": null,
      "outputs": [
        {
          "output_type": "stream",
          "name": "stdout",
          "text": [
            "[1, 2, 3, 'casa', 'pis']\n",
            "['casa', 'pis']\n"
          ]
        }
      ]
    },
    {
      "cell_type": "markdown",
      "source": [
        "Observeu el següent codi"
      ],
      "metadata": {
        "id": "2XWjpUFjVcoz"
      }
    },
    {
      "cell_type": "code",
      "source": [
        "llista_1.extend('mar')\n",
        "llista_1"
      ],
      "metadata": {
        "colab": {
          "base_uri": "https://localhost:8080/"
        },
        "id": "NKkAA8qcVghd",
        "outputId": "41949d7c-c091-4590-95cb-fef22cf397eb"
      },
      "execution_count": null,
      "outputs": [
        {
          "output_type": "execute_result",
          "data": {
            "text/plain": [
              "[1, 2, 3, 'casa', 'pis', 'm', 'a', 'r']"
            ]
          },
          "metadata": {},
          "execution_count": 10
        }
      ]
    },
    {
      "cell_type": "markdown",
      "source": [
        "Si utilitzem la funció `append()` es genera una subllista"
      ],
      "metadata": {
        "id": "vOrKrl-NV34v"
      }
    },
    {
      "cell_type": "code",
      "source": [
        "llista_1 = [1, 2, 3]\n",
        "llista_2 = [3,4]\n",
        "llista_1.append(llista_2)\n",
        "llista_1"
      ],
      "metadata": {
        "colab": {
          "base_uri": "https://localhost:8080/"
        },
        "id": "MNwyp8fXV8hq",
        "outputId": "321d15f6-2d0c-4e8a-878b-5adc41c015f1"
      },
      "execution_count": null,
      "outputs": [
        {
          "output_type": "execute_result",
          "data": {
            "text/plain": [
              "[1, 2, 3, [3, 4]]"
            ]
          },
          "metadata": {},
          "execution_count": 11
        }
      ]
    },
    {
      "cell_type": "markdown",
      "source": [
        "##Modificar llistes"
      ],
      "metadata": {
        "id": "G5oENCmhWVqL"
      }
    },
    {
      "cell_type": "code",
      "source": [
        "llista = ['ou','pollastre','pa']\n",
        "llista[0]"
      ],
      "metadata": {
        "colab": {
          "base_uri": "https://localhost:8080/",
          "height": 35
        },
        "id": "WcHKbb3yWX_-",
        "outputId": "9029fb2f-e9e7-48ae-e98f-19e7e8fcf644"
      },
      "execution_count": null,
      "outputs": [
        {
          "output_type": "execute_result",
          "data": {
            "text/plain": [
              "'ou'"
            ],
            "application/vnd.google.colaboratory.intrinsic+json": {
              "type": "string"
            }
          },
          "metadata": {},
          "execution_count": 59
        }
      ]
    },
    {
      "cell_type": "code",
      "source": [
        "llista[0] = 33\n",
        "llista"
      ],
      "metadata": {
        "colab": {
          "base_uri": "https://localhost:8080/"
        },
        "id": "ohvKNMPrWgRz",
        "outputId": "50b743be-f4d6-4fd8-f2e6-ebd399b13b22"
      },
      "execution_count": null,
      "outputs": [
        {
          "output_type": "execute_result",
          "data": {
            "text/plain": [
              "[33, 'pollastre', 'pa']"
            ]
          },
          "metadata": {},
          "execution_count": 60
        }
      ]
    },
    {
      "cell_type": "markdown",
      "source": [
        "Modificar llistes trossejant"
      ],
      "metadata": {
        "id": "7L5h7mQrWvE0"
      }
    },
    {
      "cell_type": "code",
      "source": [
        "llista = [1, 2, 3, 4, 5, 6, 7]\n",
        "llista[2:4]"
      ],
      "metadata": {
        "colab": {
          "base_uri": "https://localhost:8080/"
        },
        "id": "evSdO6WCWyId",
        "outputId": "632a115d-951c-41ba-a906-0b5fa2c56aba"
      },
      "execution_count": null,
      "outputs": [
        {
          "output_type": "execute_result",
          "data": {
            "text/plain": [
              "[3, 4]"
            ]
          },
          "metadata": {},
          "execution_count": 64
        }
      ]
    },
    {
      "cell_type": "code",
      "source": [
        "llista[2:4] = ['casa','cotxe','ordinador'] # No és necessari tenir el mateix nombre d'elements\n",
        "llista"
      ],
      "metadata": {
        "colab": {
          "base_uri": "https://localhost:8080/"
        },
        "id": "r64XVry4W9YQ",
        "outputId": "320e2cd4-37da-42f3-89fb-a1bcd0c1e364"
      },
      "execution_count": null,
      "outputs": [
        {
          "output_type": "execute_result",
          "data": {
            "text/plain": [
              "[1, 2, 'casa', 'cotxe', 'ordinador', 5, 6, 7]"
            ]
          },
          "metadata": {},
          "execution_count": 65
        }
      ]
    },
    {
      "cell_type": "markdown",
      "source": [
        "##Esborrar elements\n",
        "* Per índex\n",
        "* Per valor --> funció `.remove()`\n",
        "* Per índex (amb extracció) --> funció `pop()`\n",
        "* Per rang"
      ],
      "metadata": {
        "id": "kNTp1PtYX_4a"
      }
    },
    {
      "cell_type": "code",
      "source": [
        "llista = [1, 2, 3, 4, 5, 6, 7, 'cotxe','avió']\n",
        "del(llista[2])\n",
        "llista"
      ],
      "metadata": {
        "colab": {
          "base_uri": "https://localhost:8080/"
        },
        "id": "GVXP3OT-YTCP",
        "outputId": "ba1ab62d-4691-4e5e-c84d-3e7ef9edb59d"
      },
      "execution_count": null,
      "outputs": [
        {
          "output_type": "execute_result",
          "data": {
            "text/plain": [
              "[1, 2, 4, 5, 6, 7, 'cotxe', 'avió']"
            ]
          },
          "metadata": {},
          "execution_count": 73
        }
      ]
    },
    {
      "cell_type": "code",
      "source": [
        "llista.remove('cotxe')\n",
        "llista"
      ],
      "metadata": {
        "colab": {
          "base_uri": "https://localhost:8080/"
        },
        "id": "ZLieZ40EYmIL",
        "outputId": "65c63b7a-9b46-4c27-eaa0-a4fd3d5ea3ca"
      },
      "execution_count": null,
      "outputs": [
        {
          "output_type": "execute_result",
          "data": {
            "text/plain": [
              "[1, 2, 4, 5, 6, 7, 'avió']"
            ]
          },
          "metadata": {},
          "execution_count": 74
        }
      ]
    },
    {
      "cell_type": "code",
      "source": [
        "llista = [1, 2, 3, 4, 5, 6, 7, 'cotxe','avió']\n",
        "print(llista.pop()) # Si no li passem cap argument a la funció pop() per defecte és el \"-1\"\n",
        "llista"
      ],
      "metadata": {
        "colab": {
          "base_uri": "https://localhost:8080/"
        },
        "id": "3IaLTO2ZY0gA",
        "outputId": "68acf9e2-90f8-4053-bf03-e568f4d33b02"
      },
      "execution_count": null,
      "outputs": [
        {
          "output_type": "stream",
          "name": "stdout",
          "text": [
            "avió\n"
          ]
        },
        {
          "output_type": "execute_result",
          "data": {
            "text/plain": [
              "[1, 2, 3, 4, 5, 6, 7, 'cotxe']"
            ]
          },
          "metadata": {},
          "execution_count": 12
        }
      ]
    },
    {
      "cell_type": "code",
      "source": [
        "print(llista.pop(1))\n",
        "llista"
      ],
      "metadata": {
        "colab": {
          "base_uri": "https://localhost:8080/"
        },
        "id": "tiNNVX_OZF7m",
        "outputId": "6b3c9586-4e2a-474c-abc3-6f3a63c71c5f"
      },
      "execution_count": null,
      "outputs": [
        {
          "output_type": "stream",
          "name": "stdout",
          "text": [
            "2\n"
          ]
        },
        {
          "output_type": "execute_result",
          "data": {
            "text/plain": [
              "[1, 3, 4, 5, 6, 7, 'cotxe']"
            ]
          },
          "metadata": {},
          "execution_count": 13
        }
      ]
    },
    {
      "cell_type": "code",
      "source": [
        "compra = ['Aigua', 'Ous', 'Pa', 'Sal', 'Oli']\n",
        "\n",
        "compra[1:4] = []\n",
        "compra"
      ],
      "metadata": {
        "colab": {
          "base_uri": "https://localhost:8080/"
        },
        "id": "luStrIM3Zfdu",
        "outputId": "971ea942-b71b-4e13-f4b2-982f4c343f5e"
      },
      "execution_count": null,
      "outputs": [
        {
          "output_type": "execute_result",
          "data": {
            "text/plain": [
              "['Aigua', 'Oli']"
            ]
          },
          "metadata": {},
          "execution_count": 14
        }
      ]
    },
    {
      "cell_type": "markdown",
      "source": [
        "##Esborrar completament una llista\n",
        "* Funció `clear()`\n",
        "* Reinicialitzar la llista a buida amb `[]`"
      ],
      "metadata": {
        "id": "EHO5ya-FZ2VO"
      }
    },
    {
      "cell_type": "code",
      "source": [
        "llista = [1, 2, 3]\n",
        "llista.clear()\n",
        "llista"
      ],
      "metadata": {
        "colab": {
          "base_uri": "https://localhost:8080/"
        },
        "id": "aNLyynKoZ576",
        "outputId": "b485bee8-c148-41f3-b665-a114fe6f629a"
      },
      "execution_count": null,
      "outputs": [
        {
          "output_type": "execute_result",
          "data": {
            "text/plain": [
              "[]"
            ]
          },
          "metadata": {},
          "execution_count": 79
        }
      ]
    },
    {
      "cell_type": "code",
      "source": [
        "llista = [1, 2, 3]\n",
        "llista = []\n",
        "llista"
      ],
      "metadata": {
        "colab": {
          "base_uri": "https://localhost:8080/"
        },
        "id": "NmQLjCqJaTt4",
        "outputId": "157d384a-33cb-4a0d-afd4-97c22ef37f06"
      },
      "execution_count": null,
      "outputs": [
        {
          "output_type": "execute_result",
          "data": {
            "text/plain": [
              "[]"
            ]
          },
          "metadata": {},
          "execution_count": 80
        }
      ]
    },
    {
      "cell_type": "markdown",
      "source": [
        "##Trobar elements d'una llista"
      ],
      "metadata": {
        "id": "ZARWkyFNasNm"
      }
    },
    {
      "cell_type": "code",
      "source": [
        "compra = ['Aigua', 'Ous', 'Pa', 'Sal', 'Oli']\n",
        "compra.index('Aigua')"
      ],
      "metadata": {
        "colab": {
          "base_uri": "https://localhost:8080/"
        },
        "id": "ft6mfCsKEEgO",
        "outputId": "aa9dca26-2866-4649-e2e4-e5a87ef4171a"
      },
      "execution_count": null,
      "outputs": [
        {
          "output_type": "execute_result",
          "data": {
            "text/plain": [
              "0"
            ]
          },
          "metadata": {},
          "execution_count": 1
        }
      ]
    },
    {
      "cell_type": "code",
      "source": [
        "'Aigua' in compra"
      ],
      "metadata": {
        "colab": {
          "base_uri": "https://localhost:8080/"
        },
        "id": "a-Ceh24iEeUf",
        "outputId": "424b2eba-2d06-44e2-c19e-f75f31217780"
      },
      "execution_count": null,
      "outputs": [
        {
          "output_type": "execute_result",
          "data": {
            "text/plain": [
              "True"
            ]
          },
          "metadata": {},
          "execution_count": 2
        }
      ]
    },
    {
      "cell_type": "markdown",
      "source": [
        "##Nombre d'ocurrències"
      ],
      "metadata": {
        "id": "6pPYck57Eoi3"
      }
    },
    {
      "cell_type": "code",
      "source": [
        "llista = [1, 2, 3, 4, 5, 3, 3, 6, 7, 8, 9, 2, 7]\n",
        "llista.count(3)"
      ],
      "metadata": {
        "colab": {
          "base_uri": "https://localhost:8080/"
        },
        "id": "xadtWlHTEtMZ",
        "outputId": "d1c0f71c-0b57-44fe-f241-91c1b98e4e25"
      },
      "execution_count": null,
      "outputs": [
        {
          "output_type": "execute_result",
          "data": {
            "text/plain": [
              "3"
            ]
          },
          "metadata": {},
          "execution_count": 3
        }
      ]
    },
    {
      "cell_type": "markdown",
      "source": [
        "##Convertir una llista a cadena de text\n",
        "La funció és `'separador'.join(llista)`\n",
        "* La funció `' '.join()`només funciona si tots els elements són cadenes de text\n",
        "* `' '.join()`és la funció contrària a `.split()`"
      ],
      "metadata": {
        "id": "VeyqoTTiFLtq"
      }
    },
    {
      "cell_type": "code",
      "source": [
        "llista= ['Aigua', 'Ous', 'Pa', 'Sal', 'Oli']\n",
        "''.join(llista)"
      ],
      "metadata": {
        "colab": {
          "base_uri": "https://localhost:8080/",
          "height": 35
        },
        "id": "ylcNkuZrFFtE",
        "outputId": "7f98f410-3eba-4428-a9b2-e2dc46441c6b"
      },
      "execution_count": null,
      "outputs": [
        {
          "output_type": "execute_result",
          "data": {
            "text/plain": [
              "'AiguaOusPaSalOli'"
            ],
            "application/vnd.google.colaboratory.intrinsic+json": {
              "type": "string"
            }
          },
          "metadata": {},
          "execution_count": 4
        }
      ]
    },
    {
      "cell_type": "code",
      "source": [
        "','.join(llista)"
      ],
      "metadata": {
        "colab": {
          "base_uri": "https://localhost:8080/",
          "height": 35
        },
        "id": "5tCRXk-SGBEI",
        "outputId": "286337e7-2a6e-41e8-c032-233b68e1fc4c"
      },
      "execution_count": null,
      "outputs": [
        {
          "output_type": "execute_result",
          "data": {
            "text/plain": [
              "'Aigua,Ous,Pa,Sal,Oli'"
            ],
            "application/vnd.google.colaboratory.intrinsic+json": {
              "type": "string"
            }
          },
          "metadata": {},
          "execution_count": 5
        }
      ]
    },
    {
      "cell_type": "code",
      "source": [
        "'|'.join(llista)"
      ],
      "metadata": {
        "colab": {
          "base_uri": "https://localhost:8080/",
          "height": 35
        },
        "id": "Cqm1XBLiGEIf",
        "outputId": "7ae1f17a-dfbd-4136-8fbd-a4bedcd38157"
      },
      "execution_count": null,
      "outputs": [
        {
          "output_type": "execute_result",
          "data": {
            "text/plain": [
              "'Aigua|Ous|Pa|Sal|Oli'"
            ],
            "application/vnd.google.colaboratory.intrinsic+json": {
              "type": "string"
            }
          },
          "metadata": {},
          "execution_count": 6
        }
      ]
    },
    {
      "cell_type": "code",
      "source": [
        "'-'.join([1,2,3])"
      ],
      "metadata": {
        "colab": {
          "base_uri": "https://localhost:8080/",
          "height": 166
        },
        "id": "ZLsfYRVFGgFg",
        "outputId": "962bc5b2-dffd-4d84-fc8c-9ff5ffb64f61"
      },
      "execution_count": null,
      "outputs": [
        {
          "output_type": "error",
          "ename": "TypeError",
          "evalue": "ignored",
          "traceback": [
            "\u001b[0;31m---------------------------------------------------------------------------\u001b[0m",
            "\u001b[0;31mTypeError\u001b[0m                                 Traceback (most recent call last)",
            "\u001b[0;32m<ipython-input-7-28a12a24f499>\u001b[0m in \u001b[0;36m<module>\u001b[0;34m\u001b[0m\n\u001b[0;32m----> 1\u001b[0;31m \u001b[0;34m'-'\u001b[0m\u001b[0;34m.\u001b[0m\u001b[0mjoin\u001b[0m\u001b[0;34m(\u001b[0m\u001b[0;34m[\u001b[0m\u001b[0;36m1\u001b[0m\u001b[0;34m,\u001b[0m\u001b[0;36m2\u001b[0m\u001b[0;34m,\u001b[0m\u001b[0;36m3\u001b[0m\u001b[0;34m]\u001b[0m\u001b[0;34m)\u001b[0m\u001b[0;34m\u001b[0m\u001b[0;34m\u001b[0m\u001b[0m\n\u001b[0m",
            "\u001b[0;31mTypeError\u001b[0m: sequence item 0: expected str instance, int found"
          ]
        }
      ]
    },
    {
      "cell_type": "markdown",
      "source": [
        "##Ordenar una llista\n",
        "* Sense modificar la llista original --> `sorted()`\n",
        "* Modificant la llista original --->  `.sort()`\n",
        "* Els dos mètodes: `sorted() i sort()`admeten que l'ordenació sigui en sentit invers amb el paràmetre booleà `reverse`"
      ],
      "metadata": {
        "id": "5D9cyIBQG1ka"
      }
    },
    {
      "cell_type": "code",
      "source": [
        "llista= ['Aigua', 'Ous', 'Pa', 'Sal', 'Oli']\n",
        "print(sorted(llista))\n",
        "llista"
      ],
      "metadata": {
        "colab": {
          "base_uri": "https://localhost:8080/"
        },
        "id": "4CPyl2QbHjQz",
        "outputId": "ac48a386-a026-443e-b478-127cfec0a203"
      },
      "execution_count": null,
      "outputs": [
        {
          "output_type": "stream",
          "name": "stdout",
          "text": [
            "['Aigua', 'Oli', 'Ous', 'Pa', 'Sal']\n"
          ]
        },
        {
          "output_type": "execute_result",
          "data": {
            "text/plain": [
              "['Aigua', 'Ous', 'Pa', 'Sal', 'Oli']"
            ]
          },
          "metadata": {},
          "execution_count": 14
        }
      ]
    },
    {
      "cell_type": "code",
      "source": [
        "sorted(llista, reverse=True)"
      ],
      "metadata": {
        "colab": {
          "base_uri": "https://localhost:8080/"
        },
        "id": "CD75RzdbIR5j",
        "outputId": "7d911422-ead1-4739-a823-937129bf11b4"
      },
      "execution_count": null,
      "outputs": [
        {
          "output_type": "execute_result",
          "data": {
            "text/plain": [
              "['Sal', 'Pa', 'Ous', 'Oli', 'Aigua']"
            ]
          },
          "metadata": {},
          "execution_count": 15
        }
      ]
    },
    {
      "cell_type": "code",
      "source": [
        "llista= ['Aigua', 'Ous', 'Pa', 'Sal', 'Oli']\n",
        "llista.sort()\n",
        "llista"
      ],
      "metadata": {
        "colab": {
          "base_uri": "https://localhost:8080/"
        },
        "id": "IECzPHDoG3x5",
        "outputId": "77883dbe-c113-4f72-e4ac-8deb9cd79432"
      },
      "execution_count": null,
      "outputs": [
        {
          "output_type": "execute_result",
          "data": {
            "text/plain": [
              "['Aigua', 'Oli', 'Ous', 'Pa', 'Sal']"
            ]
          },
          "metadata": {},
          "execution_count": 11
        }
      ]
    },
    {
      "cell_type": "code",
      "source": [
        "llista.sort(reverse=True)\n",
        "print(llista)"
      ],
      "metadata": {
        "colab": {
          "base_uri": "https://localhost:8080/"
        },
        "id": "wBpOhFKqIX4q",
        "outputId": "2ba9c6ee-3210-463d-d26d-0e55fb412c8a"
      },
      "execution_count": null,
      "outputs": [
        {
          "output_type": "stream",
          "name": "stdout",
          "text": [
            "['Sal', 'Pa', 'Ous', 'Oli', 'Aigua']\n"
          ]
        }
      ]
    },
    {
      "cell_type": "markdown",
      "source": [
        "##Longitut d'una llista"
      ],
      "metadata": {
        "id": "Etfak4OgIhs6"
      }
    },
    {
      "cell_type": "code",
      "source": [
        "len(llista)"
      ],
      "metadata": {
        "colab": {
          "base_uri": "https://localhost:8080/"
        },
        "id": "W76iYQtVIlQB",
        "outputId": "e00f935f-6606-4138-eb67-64df9f1a9a11"
      },
      "execution_count": null,
      "outputs": [
        {
          "output_type": "execute_result",
          "data": {
            "text/plain": [
              "6"
            ]
          },
          "metadata": {},
          "execution_count": 4
        }
      ]
    },
    {
      "cell_type": "markdown",
      "source": [
        "##Iterar sobre una llista\n",
        "* Iterar fent servir la sentència `for`\n",
        "* Iterar amb `enumerate()`: Ens mostra l'element i també **l'índex**"
      ],
      "metadata": {
        "id": "fMo5mMP1I_BH"
      }
    },
    {
      "cell_type": "code",
      "source": [
        "llista= ['Aigua', 'Ous', 'Pa', 'Sal', 'Oli']\n",
        "\n",
        "for i in llista:\n",
        "  print(i, end=' ')"
      ],
      "metadata": {
        "colab": {
          "base_uri": "https://localhost:8080/"
        },
        "id": "zO8HccZYJCCq",
        "outputId": "4f3fec10-e67f-4155-9b7b-0aff4d55eac4"
      },
      "execution_count": null,
      "outputs": [
        {
          "output_type": "stream",
          "name": "stdout",
          "text": [
            "Aigua Ous Pa Sal Oli "
          ]
        }
      ]
    },
    {
      "cell_type": "code",
      "source": [
        "llista= ['Aigua', 'Ous', 'Pa', 'Sal', 'Oli']\n",
        "\n",
        "for i, element in enumerate(llista):\n",
        "  print(i, element)"
      ],
      "metadata": {
        "colab": {
          "base_uri": "https://localhost:8080/"
        },
        "id": "Rf2iRoRuJjg7",
        "outputId": "ee145e7f-0723-48ba-9968-2b2ad28060b5"
      },
      "execution_count": null,
      "outputs": [
        {
          "output_type": "stream",
          "name": "stdout",
          "text": [
            "0 Aigua\n",
            "1 Ous\n",
            "2 Pa\n",
            "3 Sal\n",
            "4 Oli\n"
          ]
        }
      ]
    },
    {
      "cell_type": "markdown",
      "source": [
        "##Iterar sobre múltiples llistes\n",
        "La funció `zip()`ens permet iterar en més d'una llista\n",
        "En cas de què s'acabi els elements d'una llista s'atura la iteració"
      ],
      "metadata": {
        "id": "XWXD9A_JKZcZ"
      }
    },
    {
      "cell_type": "code",
      "source": [
        "compra = ['Aigua', 'Oli', 'Arròs', 'Vi']\n",
        "detalls = ['mineral natural', 'de girasol', 'basmati']\n",
        "\n",
        "for producte, detall in zip(compra, detalls):\n",
        "    print(producte, detall)"
      ],
      "metadata": {
        "colab": {
          "base_uri": "https://localhost:8080/"
        },
        "id": "q4698y0iKhdQ",
        "outputId": "5b03fd4c-8491-4c22-ac7e-df0657606243"
      },
      "execution_count": null,
      "outputs": [
        {
          "output_type": "stream",
          "name": "stdout",
          "text": [
            "Aigua mineral natural\n",
            "Oli de girasol\n",
            "Arròs basmati\n"
          ]
        }
      ]
    },
    {
      "cell_type": "markdown",
      "source": [
        "Donat que `zip()` produeix un iterador, si volem obtenir una llista explícita amb la combinació en paral.lel de dues llistes, haurem de construir la llista d'una manera concreta tal com es mostra a l'exemple."
      ],
      "metadata": {
        "id": "rc7O6-f0MHD_"
      }
    },
    {
      "cell_type": "code",
      "source": [
        "compra = ['Aigua', 'Oli', 'Arròs', 'Vi']\n",
        "detalls = ['mineral natural', 'de girasol', 'basmati']\n",
        "\n",
        "list(zip(compra, detalls))"
      ],
      "metadata": {
        "colab": {
          "base_uri": "https://localhost:8080/"
        },
        "id": "MIlJ204TMkEo",
        "outputId": "bfa5a18d-e121-4190-f809-4d35832b6d31"
      },
      "execution_count": null,
      "outputs": [
        {
          "output_type": "execute_result",
          "data": {
            "text/plain": [
              "[('Aigua', 'mineral natural'), ('Oli', 'de girasol'), ('Arròs', 'basmati')]"
            ]
          },
          "metadata": {},
          "execution_count": 31
        }
      ]
    },
    {
      "cell_type": "markdown",
      "source": [
        "##Còpies de llistes\n",
        "Què succeïx en el següen exemple?"
      ],
      "metadata": {
        "id": "b4EqeM6GNF97"
      }
    },
    {
      "cell_type": "code",
      "source": [
        "original_list = [4, 3, 7, 1]\n",
        "\n",
        "copy_list = original_list\n",
        "\n",
        "original_list[0] = 15\n",
        "\n",
        "original_list\n",
        "\n",
        "\n",
        "copy_list"
      ],
      "metadata": {
        "colab": {
          "base_uri": "https://localhost:8080/"
        },
        "id": "Gt8oE4kINOoe",
        "outputId": "dc059276-b5e2-4214-a4b4-3cede0c5347a"
      },
      "execution_count": null,
      "outputs": [
        {
          "output_type": "execute_result",
          "data": {
            "text/plain": [
              "[15, 3, 7, 1]"
            ]
          },
          "metadata": {},
          "execution_count": 32
        }
      ]
    },
    {
      "cell_type": "markdown",
      "source": [
        "Donat que les variables <\\<apuntin\\>> a la mateixa zona de memòria, al modificar una d'elles, el canvi també es veu reflexat en l'altre.\n",
        "\n",
        "**Solució**\n",
        "\n",
        "Utilitzar una còpia dura amb la funció `copy()`"
      ],
      "metadata": {
        "id": "C1ZjVPtZNkOp"
      }
    },
    {
      "cell_type": "code",
      "source": [
        "original_list = [4, 3, 7, 1]\n",
        "\n",
        "copy_list = original_list.copy()\n",
        "\n",
        "original_list[0] = 15\n",
        "\n",
        "original_list\n",
        "\n",
        "\n",
        "copy_list"
      ],
      "metadata": {
        "colab": {
          "base_uri": "https://localhost:8080/"
        },
        "id": "Tb9sqVnkNj2v",
        "outputId": "8fa3ff16-de8a-4e42-8eb5-8a74ed36c984"
      },
      "execution_count": null,
      "outputs": [
        {
          "output_type": "execute_result",
          "data": {
            "text/plain": [
              "[4, 3, 7, 1]"
            ]
          },
          "metadata": {},
          "execution_count": 33
        }
      ]
    },
    {
      "cell_type": "markdown",
      "source": [
        "##Veracitat múltiple\n",
        "* Forma clàssica\n",
        "* Funció `all(llista)`\n",
        "* Funció `any(llista)`\n",
        "Aquest enfocament pot ser interessant quan tenim moltes condicions o bé quan volem separar les condicions i agrupar-les en una única llista.\n",
        "\n",
        "Resoldrem un programa per treballar la veracitat múltiple\n",
        "Programa per comprovar si un paraula compleix:\n",
        "* Longitut més gran que 4\n",
        "* Comença per <\\<p>\\>\n",
        "* Conté, almenys, una <\\<y>\\>"
      ],
      "metadata": {
        "id": "l4-V_nhlzYbi"
      }
    },
    {
      "cell_type": "code",
      "source": [
        "# Versió clàssica\n",
        "paraula = 'python'\n",
        "\n",
        "if len(paraula) > 4 and paraula.startswith('p') and paraula.count('y') >= 1:\n",
        "  print('Paraula trobada')\n",
        "else:\n",
        "  print('No compleix les condicions')"
      ],
      "metadata": {
        "colab": {
          "base_uri": "https://localhost:8080/"
        },
        "id": "vs-Wqu-Xzf-4",
        "outputId": "8a6c7f8d-cd29-418f-d6ad-d3db9c11c2bb"
      },
      "execution_count": null,
      "outputs": [
        {
          "output_type": "stream",
          "name": "stdout",
          "text": [
            "Paraula trobada\n"
          ]
        }
      ]
    },
    {
      "cell_type": "code",
      "source": [
        "# all()\n",
        "paraula = 'python'\n",
        "\n",
        "longitut = len(paraula) > 4 # True\n",
        "comença_p = paraula.startswith('p') # True\n",
        "conte_y = paraula.count('y') >= 1 # True\n",
        "\n",
        "es_compleix = all([longitut, comença_p, conte_y])\n",
        "\n",
        "if es_compleix:\n",
        "  print('Paraula trobada')\n",
        "else:\n",
        "  print('No compleix les condicions')\n",
        "\n"
      ],
      "metadata": {
        "colab": {
          "base_uri": "https://localhost:8080/"
        },
        "id": "NB3qoIgW1CWB",
        "outputId": "372009ff-4af0-4d67-9fc2-02a7832dface"
      },
      "execution_count": null,
      "outputs": [
        {
          "output_type": "stream",
          "name": "stdout",
          "text": [
            "Paraula trobada\n"
          ]
        }
      ]
    },
    {
      "cell_type": "code",
      "source": [
        "# any()\n",
        "paraula = 'pastís'\n",
        "\n",
        "longitut = len(paraula) > 4 # True\n",
        "comença_p = paraula.startswith('p') # True\n",
        "conte_y = paraula.count('y') >= 1 # False\n",
        "\n",
        "es_compleix = any([longitut, comença_p, conte_y])\n",
        "\n",
        "if es_compleix:\n",
        "  print('Paraula trobada')\n",
        "else:\n",
        "  print('No compleix les condicions')"
      ],
      "metadata": {
        "colab": {
          "base_uri": "https://localhost:8080/"
        },
        "id": "fhOHTSw33CXQ",
        "outputId": "90fd73aa-bddb-49c1-b831-13f7575dcb05"
      },
      "execution_count": null,
      "outputs": [
        {
          "output_type": "stream",
          "name": "stdout",
          "text": [
            "Paraula trobada\n"
          ]
        }
      ]
    },
    {
      "cell_type": "markdown",
      "source": [
        "##Llistes per comprensió\n",
        "És una tècnica per crear llistes de manera més compacata\n",
        "La expressió és [compresió](https://aprendepython.es/_images/list-comprehensions.png)\n",
        "\n",
        "Per exemplificar les llistes per compresió farem dos programes per veure les diferències ----> [programa](https://aprendepython.es/_images/list-comprehensions-transformation.jpg)"
      ],
      "metadata": {
        "id": "WS59ayeU4IEJ"
      }
    },
    {
      "cell_type": "code",
      "source": [
        "# Versió clàssica\n",
        "values = '32,45,11,87,20,48'\n",
        "\n",
        "int_values = []\n",
        "\n",
        "for value in values.split(','):\n",
        "    int_value = int(value)\n",
        "    int_values.append(int_value)\n",
        "\n",
        "\n",
        "int_values"
      ],
      "metadata": {
        "colab": {
          "base_uri": "https://localhost:8080/"
        },
        "id": "Hpmudc_E44Bw",
        "outputId": "5e4a4e92-dd15-4ba3-8e05-7b2ff3a46f99"
      },
      "execution_count": null,
      "outputs": [
        {
          "output_type": "execute_result",
          "data": {
            "text/plain": [
              "[32, 45, 11, 87, 20, 48]"
            ]
          },
          "metadata": {},
          "execution_count": 7
        }
      ]
    },
    {
      "cell_type": "code",
      "source": [
        "# Llista per compresió\n",
        "values = '32,45,11,87,20,48'\n",
        "\n",
        "int_values = [int(value) for value in values.split(',')]\n",
        "\n",
        "int_values"
      ],
      "metadata": {
        "colab": {
          "base_uri": "https://localhost:8080/"
        },
        "id": "vWP9jECQ5QhG",
        "outputId": "9849b3aa-9a9c-471a-fc25-9f7759e5c906"
      },
      "execution_count": null,
      "outputs": [
        {
          "output_type": "execute_result",
          "data": {
            "text/plain": [
              "[32, 45, 11, 87, 20, 48]"
            ]
          },
          "metadata": {},
          "execution_count": 8
        }
      ]
    },
    {
      "cell_type": "code",
      "source": [
        "values = '32,45,11,87,20,48'\n",
        "\n",
        "int_values = [int(v) for v in values.split(',') if v.startswith('4')]\n",
        "\n",
        "int_values"
      ],
      "metadata": {
        "colab": {
          "base_uri": "https://localhost:8080/"
        },
        "id": "Xh44kn0s6YgK",
        "outputId": "9328d20f-e5a4-4e18-e1f2-979d729f569a"
      },
      "execution_count": null,
      "outputs": [
        {
          "output_type": "execute_result",
          "data": {
            "text/plain": [
              "[45, 48]"
            ]
          },
          "metadata": {},
          "execution_count": 9
        }
      ]
    },
    {
      "cell_type": "markdown",
      "source": [
        "##Imbricació en comprensions"
      ],
      "metadata": {
        "id": "x4dnswUm6mms"
      }
    },
    {
      "cell_type": "code",
      "source": [
        "valors = '32,45,11'\n",
        "valors_split = valors.split(',')\n",
        "\n",
        "combinacions = [f'{v1} x {v2}' for v1 in valors_split for v2 in valors_split]\n",
        "\n",
        "combinacions"
      ],
      "metadata": {
        "id": "REFaTZKO6uud",
        "colab": {
          "base_uri": "https://localhost:8080/"
        },
        "outputId": "2457099a-4d51-49c2-e22c-c09f11989fb4"
      },
      "execution_count": null,
      "outputs": [
        {
          "output_type": "execute_result",
          "data": {
            "text/plain": [
              "['32 x 32',\n",
              " '32 x 45',\n",
              " '32 x 11',\n",
              " '45 x 32',\n",
              " '45 x 45',\n",
              " '45 x 11',\n",
              " '11 x 32',\n",
              " '11 x 45',\n",
              " '11 x 11']"
            ]
          },
          "metadata": {},
          "execution_count": 12
        }
      ]
    },
    {
      "cell_type": "markdown",
      "source": [
        "##Llista de llistes"
      ],
      "metadata": {
        "id": "KXYksLJyXzZo"
      }
    },
    {
      "cell_type": "code",
      "source": [
        "goalkeeper = 'Casillas'\n",
        "defenders = ['Capdevila', 'Piqué', 'Puyol', 'Ramos']\n",
        "midfielders = ['Xavi', 'Busquets', 'X. Alonso']\n",
        "forwards = ['Iniesta', 'Villa', 'Pedro']"
      ],
      "metadata": {
        "id": "WzSDx2qqX2ad"
      },
      "execution_count": null,
      "outputs": []
    },
    {
      "cell_type": "code",
      "source": [
        "team = [goalkeeper, defenders, midfielders, forwards]\n",
        "\n",
        "team"
      ],
      "metadata": {
        "colab": {
          "base_uri": "https://localhost:8080/"
        },
        "id": "_TMpX8f2YAsU",
        "outputId": "ec90b04d-1ae3-4134-b532-71eaad29e522"
      },
      "execution_count": null,
      "outputs": [
        {
          "output_type": "execute_result",
          "data": {
            "text/plain": [
              "['Casillas',\n",
              " ['Capdevila', 'Piqué', 'Puyol', 'Ramos'],\n",
              " ['Xavi', 'Busquets', 'X. Alonso'],\n",
              " ['Iniesta', 'Villa', 'Pedro']]"
            ]
          },
          "metadata": {},
          "execution_count": 14
        }
      ]
    },
    {
      "cell_type": "code",
      "source": [
        "print(team[0])\n",
        "\n",
        "print(team[1][0])\n",
        "\n",
        "print(team[2])\n",
        "\n",
        "print(team[3][1])"
      ],
      "metadata": {
        "colab": {
          "base_uri": "https://localhost:8080/"
        },
        "id": "S3tabe_PYIAD",
        "outputId": "5a23d5c7-6f7f-4a8b-e1a7-cb3393ef3434"
      },
      "execution_count": null,
      "outputs": [
        {
          "output_type": "stream",
          "name": "stdout",
          "text": [
            "Casillas\n",
            "Capdevila\n",
            "['Xavi', 'Busquets', 'X. Alonso']\n",
            "Villa\n"
          ]
        }
      ]
    }
  ]
}